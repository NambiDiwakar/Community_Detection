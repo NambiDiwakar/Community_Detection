{
 "cells": [
  {
   "cell_type": "code",
   "execution_count": 1,
   "metadata": {},
   "outputs": [],
   "source": [
    "import networkx as nx\n",
    "import matplotlib.pyplot as plt "
   ]
  },
  {
   "cell_type": "code",
   "execution_count": 2,
   "metadata": {},
   "outputs": [
    {
     "name": "stdout",
     "output_type": "stream",
     "text": [
      "[[0, 1, 1, 1, 0, 1, 0, 0], [1, 0, 1, 0, 1, 0, 0, 0], [1, 1, 0, 1, 0, 1, 0, 1], [1, 0, 1, 0, 0, 0, 0, 0], [0, 1, 0, 0, 0, 0, 0, 0], [1, 0, 1, 0, 0, 0, 0, 0], [0, 0, 0, 0, 0, 0, 0, 1], [0, 0, 1, 0, 0, 0, 1, 0]]\n",
      "{1: [[1], 0], 2: [[2], 0], 3: [[3], 0], 4: [[4], 0], 5: [[5], 0], 6: [[6], 0], 7: [[7], 0], 8: [[8], 0]}\n",
      "[4, 3, 5, 2, 1, 2, 1, 2]\n"
     ]
    }
   ],
   "source": [
    "\n",
    "def add_vertex(v):                             # Add a vertex to the set of vertices and the graph\n",
    "  global graph\n",
    "  global vertices_no\n",
    "  global vertices\n",
    "  if v in vertices:\n",
    "    print(\"Vertex \", v, \" already exists\")\n",
    "  else:\n",
    "    vertices_no = vertices_no + 1\n",
    "    vertices.append(v)\n",
    "    if vertices_no > 1:\n",
    "        for vertex in graph:\n",
    "            vertex.append(0)\n",
    "    temp = []\n",
    "    for i in range(vertices_no):\n",
    "        temp.append(0)\n",
    "    graph.append(temp)\n",
    "    \n",
    "def add_edge(v1, v2):                              # Add an edge between vertex v1 and v2 with edge weight e\n",
    "    global graph\n",
    "    global vertices_no\n",
    "    global vertices\n",
    "    global edges\n",
    "    if v1 not in vertices:                            # Check if vertex v1 is a valid vertex\n",
    "        print(\"Vertex \", v1, \" does not exist.\")\n",
    "    elif v2 not in vertices:                           # Check if vertex v1 is a valid vertex\n",
    "        print(\"Vertex \", v2, \" does not exist.\")\n",
    " \n",
    "    else:\n",
    "        index1 = vertices.index(v1)\n",
    "        index2 = vertices.index(v2)\n",
    "        graph[index1][index2] = 1\n",
    "        graph[index2][index1] = 1\n",
    "        edges.append([v1,v2])        \n",
    "\n",
    "vertices = []                                         # to store the vertices into the graph\n",
    "vertices_no = 0                                       # to store the number of vertices in the graph\n",
    "graph = []\n",
    "edges=[]\n",
    "add_vertex(1)       #adding vertices to graph          \n",
    "add_vertex(2)\n",
    "add_vertex(3)\n",
    "add_vertex(4)\n",
    "add_vertex(5)\n",
    "add_vertex(6)\n",
    "add_vertex(7)\n",
    "add_vertex(8)\n",
    "add_edge(1, 2)           # Add the edges between the vertices by specifying\n",
    "add_edge(1, 3)           # the from and to vertex along with the edge weights.\n",
    "add_edge(2, 3)\n",
    "add_edge(3, 4)\n",
    "add_edge(4, 1)\n",
    "add_edge(7, 8)\n",
    "add_edge(3, 6)\n",
    "add_edge(3, 8)\n",
    "add_edge(1, 6)\n",
    "add_edge(2, 5)\n",
    "\n",
    "print(graph)\n",
    "cdict=dict()\n",
    "for i in range(8):\n",
    "    cdict[i+1]=[[i+1],0]\n",
    "print(cdict)\n",
    "dcmatrix=[]\n",
    "for i in range(8):\n",
    "    dcmatrix.append(graph[i].count(1))\n",
    "print(dcmatrix)"
   ]
  },
  {
   "cell_type": "code",
   "execution_count": 3,
   "metadata": {},
   "outputs": [
    {
     "name": "stdout",
     "output_type": "stream",
     "text": [
      "[1, 2, 3, 4, 5, 6, 7, 8]\n",
      "7 8\n",
      "{1: [[1], 0], 2: [[2], 0], 3: [[3], 0], 4: [[4], 0], 5: [[5], 0], 6: [[6], 0], 7: [[7, 8], 0]}\n",
      "[1, 2, 3, 4, 5, 6, 7]\n",
      "2 5\n",
      "{1: [[1], 0], 2: [[2, 5], 0], 3: [[3], 0], 4: [[4], 0], 6: [[6], 0], 7: [[7, 8], 0]}\n",
      "[1, 2, 3, 4, 6, 7]\n",
      "1 4\n",
      "{1: [[1, 4], 0], 2: [[2, 5], 0], 3: [[3], 0], 6: [[6], 0], 7: [[7, 8], 0]}\n",
      "[1, 2, 3, 6, 7]\n",
      "3 6\n",
      "{1: [[1, 4], 0], 2: [[2, 5], 0], 3: [[3, 6], 0], 7: [[7, 8], 0]}\n",
      "[1, 2, 3, 7]\n",
      "1 3\n",
      "{1: [[1, 4, 3, 6], 0], 2: [[2, 5], 0], 7: [[7, 8], 0]}\n",
      "[1, 2, 7]\n",
      "1 2\n",
      "{1: [[1, 4, 3, 6, 2, 5], 4], 7: [[7, 8], 0]}\n"
     ]
    }
   ],
   "source": [
    "\n",
    "\n",
    "def modularity(m1,m2,cdict,dcmatrix,m,graph):\n",
    "    \n",
    "    v1=cdict[m1]\n",
    "    v2=cdict[m2]\n",
    "    temp=v1[1]+v2[1]\n",
    "    for i in v1[0]:\n",
    "        for j in v2[0]:\n",
    "            if(graph[i-1][j-1]==1):\n",
    "                temp+=1\n",
    "    \n",
    "    \n",
    "                \n",
    "    dc=0\n",
    "    for i in v1[0]:\n",
    "        dc+=dcmatrix[i-1]\n",
    "    for j in v2[0]:\n",
    "        dc+=dcmatrix[j-1]\n",
    "    \n",
    "    \n",
    "        \n",
    "        \n",
    "    q=(temp/m)-(dc/(2*m))**2\n",
    "    \n",
    "    for i in cdict.keys():\n",
    "        if i==m1 or i==m2:\n",
    "            continue\n",
    "        else:\n",
    "            td=0\n",
    "            for j in (cdict[i][0]):\n",
    "                td+=dcmatrix[j-1]\n",
    "               \n",
    "            q+=(cdict[i][1]/m)-(td/(2*m))**2\n",
    "    return [q,m1,m2]\n",
    "k=2\n",
    "while len(cdict)>k:\n",
    "    qmax=-999999\n",
    "    list1=list(cdict.keys())\n",
    "    print(list1)\n",
    "    \n",
    "    le=len(list1)\n",
    "    m=10\n",
    "    for i in range(le-1):\n",
    "        for j in range(i+1,le):\n",
    "            l=modularity(list1[i],list1[j],cdict,dcmatrix,m,graph)\n",
    "            if(l[0]>qmax):\n",
    "                qmax=l[0]\n",
    "                finalclus=[l[1],l[2]]\n",
    "    cdict[finalclus[0]][0].extend(cdict[finalclus[1]][0])\n",
    "    del cdict[finalclus[1]]\n",
    "    print(finalclus[0],finalclus[1])\n",
    "    print(cdict)\n",
    "    tl=cdict[finalclus[0]][0]\n",
    "    templi=0\n",
    "    for i in range(len(tl)-1):\n",
    "        for j in range(i+1,len(tl)):\n",
    "            if graph[i-1][j-1]:\n",
    "                templi+=1\n",
    "    cdict[finalclus[0]][1]=templi\n",
    "\n",
    "\n",
    "\n"
   ]
  },
  {
   "cell_type": "code",
   "execution_count": 4,
   "metadata": {},
   "outputs": [
    {
     "data": {
      "image/png": "[encoded data removed]",
      "text/plain": [
       "<Figure size 432x288 with 1 Axes>"
      ]
     },
     "metadata": {},
     "output_type": "display_data"
    }
   ],
   "source": [
    "G = nx.Graph()\n",
    "G.add_nodes_from(vertices)\n",
    "G.add_edges_from(edges)\n",
    "col=[0]*len(vertices)\n",
    "k=1\n",
    "for i in cdict.values(): \n",
    "    \n",
    "    for b in i[0]:\n",
    "        col[b-1]=k\n",
    "    k=k+1\n",
    "\n",
    "\n",
    "nx.draw_networkx(G,node_color=col)"
   ]
  },
  {
   "cell_type": "code",
   "execution_count": null,
   "metadata": {},
   "outputs": [],
   "source": []
  }
 ],
 "metadata": {
  "kernelspec": {
   "display_name": "Python 3",
   "language": "python",
   "name": "python3"
  },
  "language_info": {
   "codemirror_mode": {
    "name": "ipython",
    "version": 3
   },
   "file_extension": ".py",
   "mimetype": "text/x-python",
   "name": "python",
   "nbconvert_exporter": "python",
   "pygments_lexer": "ipython3",
   "version": "3.8.5"
  }
 },
 "nbformat": 4,
 "nbformat_minor": 4
}
